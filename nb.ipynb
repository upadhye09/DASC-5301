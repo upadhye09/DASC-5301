{
  "nbformat": 4,
  "nbformat_minor": 0,
  "metadata": {
    "colab": {
      "provenance": []
    },
    "kernelspec": {
      "name": "python3",
      "display_name": "Python 3"
    },
    "language_info": {
      "name": "python"
    }
  },
  "cells": [
    {
      "cell_type": "markdown",
      "source": [
        "\n",
        "```\n",
        "Name: Neha Upadhye\n",
        "Student ID: 1002232340\n",
        "```"
      ],
      "metadata": {
        "id": "-GddNyZc_ddO"
      }
    },
    {
      "cell_type": "code",
      "source": [
        "#Importing the required Libraries\n",
        "import pandas as pd\n",
        "import numpy as np\n",
        "from sklearn.model_selection import train_test_split\n",
        "from sklearn.feature_extraction.text import CountVectorizer, TfidfVectorizer\n",
        "from sklearn.naive_bayes import GaussianNB\n",
        "from sklearn.metrics import accuracy_score, confusion_matrix, classification_report\n",
        "import matplotlib.pyplot as plt\n",
        "import seaborn as sns"
      ],
      "metadata": {
        "id": "AGiqRK3knuYf"
      },
      "execution_count": null,
      "outputs": []
    },
    {
      "cell_type": "code",
      "source": [
        "#Loading the  dataset\n",
        "df = pd.read_csv('/content/dataset_NB.csv')"
      ],
      "metadata": {
        "id": "86mYaoa3nqYO"
      },
      "execution_count": 5,
      "outputs": []
    },
    {
      "cell_type": "code",
      "source": [
        "#Display first few rows to understand the data\n",
        "print(df.info())"
      ],
      "metadata": {
        "colab": {
          "base_uri": "https://localhost:8080/"
        },
        "id": "ZJFSE0HCn079",
        "outputId": "c77494f6-dbbf-4dd7-994d-dcb62ac79374"
      },
      "execution_count": 7,
      "outputs": [
        {
          "output_type": "stream",
          "name": "stdout",
          "text": [
            "<class 'pandas.core.frame.DataFrame'>\n",
            "RangeIndex: 3000 entries, 0 to 2999\n",
            "Data columns (total 2 columns):\n",
            " #   Column  Non-Null Count  Dtype \n",
            "---  ------  --------------  ----- \n",
            " 0   email   2999 non-null   object\n",
            " 1   label   3000 non-null   int64 \n",
            "dtypes: int64(1), object(1)\n",
            "memory usage: 47.0+ KB\n",
            "None\n"
          ]
        }
      ]
    },
    {
      "cell_type": "code",
      "source": [
        "#Check for NaN values in each column\n",
        "nan_values = df.isna().sum()\n",
        "\n",
        "# Print NaN values column-wise\n",
        "for column, count in nan_values.items():\n",
        "    print(f'Column: {column} - NaN Values: {count}')"
      ],
      "metadata": {
        "colab": {
          "base_uri": "https://localhost:8080/"
        },
        "id": "Fwb1nxT4n3kJ",
        "outputId": "e2b73a51-db1c-413f-ca1a-a35d22231548"
      },
      "execution_count": 8,
      "outputs": [
        {
          "output_type": "stream",
          "name": "stdout",
          "text": [
            "Column: email - NaN Values: 1\n",
            "Column: label - NaN Values: 0\n"
          ]
        }
      ]
    },
    {
      "cell_type": "code",
      "source": [
        "#Drop rows with any NaN values\n",
        "df_cleaned = df.dropna()\n",
        "\n",
        "#Check for NaN values in each column\n",
        "nan_values = df_cleaned.isna().sum()\n",
        "\n",
        "#Print NaN values column-wise\n",
        "for column, count in nan_values.items():\n",
        "    print(f'Column: {column} - NaN Values: {count}')"
      ],
      "metadata": {
        "colab": {
          "base_uri": "https://localhost:8080/"
        },
        "id": "BH1RAUc3oQwX",
        "outputId": "40128685-b4f6-43d9-fbfd-9f8130892f81"
      },
      "execution_count": 17,
      "outputs": [
        {
          "output_type": "stream",
          "name": "stdout",
          "text": [
            "Column: email - NaN Values: 0\n",
            "Column: label - NaN Values: 0\n"
          ]
        }
      ]
    },
    {
      "cell_type": "code",
      "execution_count": 18,
      "metadata": {
        "colab": {
          "base_uri": "https://localhost:8080/",
          "height": 653
        },
        "id": "4c3O0koeosO1",
        "outputId": "921f31cc-0e39-4b80-9df9-7079697fd951"
      },
      "outputs": [
        {
          "output_type": "stream",
          "name": "stdout",
          "text": [
            "Accuracy: 0.9716666666666667\n",
            "Confusion Matrix:\n",
            " [[493   7]\n",
            " [ 10  90]]\n",
            "Classification Report:\n",
            "               precision    recall  f1-score   support\n",
            "\n",
            "           0       0.98      0.99      0.98       500\n",
            "           1       0.93      0.90      0.91       100\n",
            "\n",
            "    accuracy                           0.97       600\n",
            "   macro avg       0.95      0.94      0.95       600\n",
            "weighted avg       0.97      0.97      0.97       600\n",
            "\n"
          ]
        },
        {
          "output_type": "display_data",
          "data": {
            "text/plain": [
              "<Figure size 600x400 with 2 Axes>"
            ],
            "image/png": "[encoded data removed]"
          },
          "metadata": {}
        }
      ],
      "source": [
        "# Step 2: Preprocessing the data\n",
        "# Assuming 'email' is the column containing the email text and 'Label' for the target\n",
        "X = df_cleaned['email']\n",
        "y = df_cleaned['label']\n",
        "\n",
        "# Feature extraction using TF-IDF\n",
        "vectorizer = TfidfVectorizer(stop_words='english', max_features=1000) # You can adjust max_features\n",
        "X_transformed = vectorizer.fit_transform(X).toarray()\n",
        "\n",
        "# Step 3: Train-test split\n",
        "X_train, X_test, y_train, y_test = train_test_split(X_transformed, y, test_size=0.2, random_state=42)\n",
        "\n",
        "# Step 4: Training Gaussian Naive Bayes\n",
        "nb_model = GaussianNB()\n",
        "nb_model.fit(X_train, y_train)\n",
        "\n",
        "# Step 5: Predict on the test data\n",
        "y_pred = nb_model.predict(X_test)\n",
        "\n",
        "# Step 6: Calculate accuracy, confusion matrix, and report\n",
        "accuracy = accuracy_score(y_test, y_pred)\n",
        "conf_matrix = confusion_matrix(y_test, y_pred)\n",
        "report = classification_report(y_test, y_pred)\n",
        "\n",
        "print(f'Accuracy: {accuracy}')\n",
        "print('Confusion Matrix:\\n', conf_matrix)\n",
        "print('Classification Report:\\n', report)\n",
        "\n",
        "# Step 6: Plotting confusion matrix\n",
        "plt.figure(figsize=(6,4))\n",
        "sns.heatmap(conf_matrix, annot=True, fmt='d', cmap='Blues', xticklabels=['Not Spam', 'Spam'], yticklabels=['Not Spam', 'Spam'])\n",
        "plt.xlabel('Predicted')\n",
        "plt.ylabel('True')\n",
        "plt.title('Confusion Matrix for TF-IDF')\n",
        "plt.show()\n",
        "\n",
        "# Step 7: Writing Report to a File\n",
        "with open('report.txt', 'w') as f:\n",
        "    f.write(f'Accuracy: {accuracy}\\n')\n",
        "    f.write('Confusion Matrix:\\n')\n",
        "    f.write(f'{conf_matrix}\\n')\n",
        "    f.write('Classification Report:\\n')\n",
        "    f.write(f'{report}\\n')\n",
        "\n"
      ]
    },
    {
      "cell_type": "markdown",
      "source": [
        "**TF-IDF Method:**\n",
        "*   True Positives (Spam correctly classified as Spam): 90\n",
        "*   True Negatives (Not Spam correctly classified as Not Spam): 493\n",
        "*   False Positives (Not Spam misclassified as Spam): 7\n",
        "*   False Negatives (Spam misclassified as Not Spam): 10\n",
        "\n",
        "**Analysis:**\n",
        "The model is quite accurate in classifying both spam and non-spam emails. Out of 100 spam emails, it correctly identifies 90, while misclassifying 10.\n",
        "It only misclassifies 7 non-spam emails as spam, which is a low error rate.\n",
        "Overall, the model using TF-IDF appears to perform well, especially in detecting non-spam emails with very few misclassifications."
      ],
      "metadata": {
        "id": "vfb19aLmrN96"
      }
    },
    {
      "cell_type": "code",
      "source": [
        "#Convert text data into numerical features using Bag of Words\n",
        "vectorizer = CountVectorizer(stop_words='english')  # Removing English stopwords\n",
        "X_transformed = vectorizer.fit_transform(X).toarray()\n",
        "\n",
        "# Step 3: Train-test split\n",
        "X_train, X_test, y_train, y_test = train_test_split(X_transformed, y, test_size=0.2, random_state=42)\n",
        "\n",
        "# Step 4: Train the Naive Bayes (GaussianNB) model\n",
        "nb_model = GaussianNB()\n",
        "nb_model.fit(X_train, y_train)\n",
        "\n",
        "# Step 5: Predict on the test data\n",
        "y_pred = nb_model.predict(X_test)\n",
        "\n",
        "# Step 6: Evaluate the model\n",
        "accuracy = accuracy_score(y_test, y_pred)\n",
        "conf_matrix = confusion_matrix(y_test, y_pred)\n",
        "report = classification_report(y_test, y_pred)\n",
        "\n",
        "# Print the accuracy, confusion matrix, and classification report\n",
        "print(f'Accuracy: {accuracy}')\n",
        "print('Confusion Matrix:\\n', conf_matrix)\n",
        "print('Classification Report:\\n', report)\n",
        "\n",
        "# Step 6: Plot the confusion matrix\n",
        "plt.figure(figsize=(6,4))\n",
        "sns.heatmap(conf_matrix, annot=True, fmt='d', cmap='Blues', xticklabels=['Not Spam', 'Spam'], yticklabels=['Not Spam', 'Spam'])\n",
        "plt.xlabel('Predicted')\n",
        "plt.ylabel('True')\n",
        "plt.title('Confusion Matrix for Bag of Words')\n",
        "plt.show()\n",
        "\n",
        "# Step 7: Writing Report to a File\n",
        "with open('report_bag_of_words.txt', 'w') as f:\n",
        "    f.write(f'Accuracy: {accuracy}\\n')\n",
        "    f.write('Confusion Matrix:\\n')\n",
        "    f.write(f'{conf_matrix}\\n')\n",
        "    f.write('Classification Report:\\n')\n",
        "    f.write(f'{report}\\n')"
      ],
      "metadata": {
        "colab": {
          "base_uri": "https://localhost:8080/",
          "height": 653
        },
        "id": "AFx48wE0qB6R",
        "outputId": "f3228d11-8909-4bdf-b796-7bfae238b841"
      },
      "execution_count": 16,
      "outputs": [
        {
          "output_type": "stream",
          "name": "stdout",
          "text": [
            "Accuracy: 0.9583333333333334\n",
            "Confusion Matrix:\n",
            " [[491   9]\n",
            " [ 16  84]]\n",
            "Classification Report:\n",
            "               precision    recall  f1-score   support\n",
            "\n",
            "           0       0.97      0.98      0.98       500\n",
            "           1       0.90      0.84      0.87       100\n",
            "\n",
            "    accuracy                           0.96       600\n",
            "   macro avg       0.94      0.91      0.92       600\n",
            "weighted avg       0.96      0.96      0.96       600\n",
            "\n"
          ]
        },
        {
          "output_type": "display_data",
          "data": {
            "text/plain": [
              "<Figure size 600x400 with 2 Axes>"
            ],
            "image/png": "[encoded data removed]"
          },
          "metadata": {}
        }
      ]
    },
    {
      "cell_type": "markdown",
      "source": [
        "**Bag of Words Method:**\n",
        "*   True Positives (Spam correctly classified as Spam): 84\n",
        "*   True Negatives (Not Spam correctly classified as Not Spam): 491\n",
        "*   False Positives (Not Spam misclassified as Spam): 9\n",
        "*   False Negatives (Spam misclassified as Not Spam): 16\n",
        "\n",
        "**Analysis:**\n",
        "The model performs slightly worse than TF-IDF when using Bag of Words. It misclassifies 16 spam emails as non-spam, meaning that 16 spam emails are wrongly predicted.\n",
        "It also has more false positives (9), misclassifying non-spam emails as spam.\n",
        "While the Bag of Words method is still reasonably effective, it’s clear that the TF-IDF method provides better performance in this case, especially in terms of minimizing false negatives (i.e., fewer spam emails are missed)."
      ],
      "metadata": {
        "id": "lWcXdJlVsGr4"
      }
    }
  ]
}